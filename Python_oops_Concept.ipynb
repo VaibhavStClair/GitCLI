{
  "nbformat": 4,
  "nbformat_minor": 0,
  "metadata": {
    "colab": {
      "provenance": []
    },
    "kernelspec": {
      "name": "python3",
      "display_name": "Python 3"
    },
    "language_info": {
      "name": "python"
    }
  },
  "cells": [
    {
      "cell_type": "markdown",
      "source": [
        "#Class definition and instances\n"
      ],
      "metadata": {
        "id": "Kwaoh13aBMOR"
      }
    },
    {
      "cell_type": "code",
      "execution_count": null,
      "metadata": {
        "id": "4zfVbRiwiQbv"
      },
      "outputs": [],
      "source": [
        "#Manual entries in class\n",
        "class Emp:\n",
        "  pass\n",
        "\n",
        "emp1 = Emp()\n",
        "emp2 = Emp()\n",
        "\n",
        "emp1.first = 'Vaibhav'\n",
        "emp2.first = 'Raman'\n",
        "emp1.last = 'Chaudhary'\n",
        "emp2.last = 'Virk'\n",
        "emp1.Salary = 20000\n",
        "emp2.Salary = 120000\n",
        "emp1.email = 'Vaibhav.Chaudhary@company.com'\n",
        "emp2.email = 'Raman.Virk@company.com'"
      ]
    },
    {
      "cell_type": "code",
      "source": [
        "print(emp1.first)\n",
        "print(emp2.first)"
      ],
      "metadata": {
        "colab": {
          "base_uri": "https://localhost:8080/"
        },
        "id": "UljGGoP2jCMw",
        "outputId": "b68672b5-84fd-4734-cdf6-68fcbdfe1a56"
      },
      "execution_count": null,
      "outputs": [
        {
          "output_type": "stream",
          "name": "stdout",
          "text": [
            "Vaibhav\n",
            "Raman\n"
          ]
        }
      ]
    },
    {
      "cell_type": "code",
      "source": [
        "\n",
        "#Automatic entries using constructor __init__ also called initialize\n",
        "#Self is a parameter that we give at the start\n",
        "class Employee:\n",
        "  def __init__(self,first,last,pay):\n",
        "    self.first = first\n",
        "    self.last = last \n",
        "    self.pay = pay\n",
        "    self.email = first + '.' + last + '@company.com'\n",
        "\n",
        "#Creating a method in class\n",
        "  def fullname(self):\n",
        "    return 'full name is: ' + self.first + \" \" + self.last\n",
        "emp1 = Employee('Vee','Chaudhary',23)\n",
        "emp3 = Employee('Raman','Virk',230)\n",
        "print(emp3.fullname())\n",
        "print(Employee.fullname(emp1))"
      ],
      "metadata": {
        "colab": {
          "base_uri": "https://localhost:8080/"
        },
        "id": "swbwn_FRjFn1",
        "outputId": "e5805cd7-d13d-4bc4-cdc8-79a1f0e37184"
      },
      "execution_count": null,
      "outputs": [
        {
          "output_type": "stream",
          "name": "stdout",
          "text": [
            "full name is: Raman Virk\n",
            "full name is: Vee Chaudhary\n"
          ]
        }
      ]
    },
    {
      "cell_type": "markdown",
      "source": [
        "#Class Variables & Instance Variables"
      ],
      "metadata": {
        "id": "1wORT9JcBHU7"
      }
    },
    {
      "cell_type": "code",
      "source": [
        "class Employee:\n",
        "\n",
        "  raise_amount = 1.10 # Class variable\n",
        "  \n",
        "  def __init__(self,first,last,pay):\n",
        "    self.first = first\n",
        "    self.last = last \n",
        "    self.pay = pay\n",
        "    self.email = first + '.' + last + '@company.com'\n",
        "\n",
        "  def fullname(self):\n",
        "    return 'full name is: ' + self.first + \" \" + self.last\n",
        "  \n",
        "  def apply_raise(self):\n",
        "    self.pay = int(self.pay*self.raise_amount)\n",
        "\n",
        "emp1 = Employee('Vee','Chaudhary',30)\n",
        "\n",
        "print(emp1.pay)\n",
        "emp1.apply_raise()\n",
        "print(emp1.pay)\n",
        "\n",
        "\n",
        "#__dict__\n",
        "#The __dict__ in Python represents a dictionary or any mapping object that is used to store the attributes of the object\n",
        "print(Employee.__dict__)\n",
        "print(emp1.__dict__)\n",
        "\n",
        "#if we were to increase the raise amount for a specific object, \n",
        "#that we would do like this:\n",
        "emp1.raise_amount = 1.2 # Instance variables\n",
        "print(emp1.__dict__) #Also has raise amount variable as while declaring the variable we put self here :int(self.pay*self.raise_amount)\n",
        "\n",
        "#check to see if emp2 raise amount has an effect or not\n",
        "emp2 = Employee('R','V',20)\n",
        "print(emp2.__dict__)"
      ],
      "metadata": {
        "colab": {
          "base_uri": "https://localhost:8080/"
        },
        "id": "LL8k3c9yqcr_",
        "outputId": "07fa2c74-4824-4707-b48f-cba9e4eb03de"
      },
      "execution_count": null,
      "outputs": [
        {
          "output_type": "stream",
          "name": "stdout",
          "text": [
            "30\n",
            "33\n",
            "{'__module__': '__main__', 'raise_amount': 1.1, '__init__': <function Employee.__init__ at 0x7ff639a2d670>, 'fullname': <function Employee.fullname at 0x7ff639a2d430>, 'apply_raise': <function Employee.apply_raise at 0x7ff639a2ddc0>, '__dict__': <attribute '__dict__' of 'Employee' objects>, '__weakref__': <attribute '__weakref__' of 'Employee' objects>, '__doc__': None}\n",
            "{'first': 'Vee', 'last': 'Chaudhary', 'pay': 33, 'email': 'Vee.Chaudhary@company.com'}\n",
            "{'first': 'Vee', 'last': 'Chaudhary', 'pay': 33, 'email': 'Vee.Chaudhary@company.com', 'raise_amount': 1.2}\n",
            "{'first': 'R', 'last': 'V', 'pay': 20, 'email': 'R.V@company.com'}\n"
          ]
        }
      ]
    },
    {
      "cell_type": "markdown",
      "source": [
        "#Using class instead of self in __init__"
      ],
      "metadata": {
        "id": "nIDPzlwJFb2J"
      }
    },
    {
      "cell_type": "code",
      "source": [
        "class Employee:\n",
        "  num_of_emps = 0\n",
        "  raise_amount = 1.10\n",
        "  \n",
        "  def __init__(self,first,last,pay):\n",
        "    self.first = first\n",
        "    self.last = last \n",
        "    self.pay = pay\n",
        "    self.email = first + '.' + last + '@company.com'\n",
        "    #self.num_of_emps += 1 #.  -> this wont work\n",
        "    Employee.num_of_emps += 1 \n",
        "  def fullname(self):\n",
        "    return 'full name is: ' + self.first + \" \" + self.last\n",
        "  \n",
        "  def apply_raise(self):\n",
        "    self.pay = int(self.pay*self.raise_amount) \n",
        "\n",
        "emp1 = Employee('abc','hef',67)\n",
        "\n",
        "emp2 = Employee('abcd','heff',637)\n",
        "\n",
        "print(Employee.num_of_emps)"
      ],
      "metadata": {
        "colab": {
          "base_uri": "https://localhost:8080/"
        },
        "id": "bYSf0JVdCnR2",
        "outputId": "3210571b-b3cf-4a4b-cf65-2ed7e0e9cc8d"
      },
      "execution_count": null,
      "outputs": [
        {
          "output_type": "stream",
          "name": "stdout",
          "text": [
            "2\n"
          ]
        }
      ]
    },
    {
      "cell_type": "markdown",
      "source": [
        "# difference between a regular method, class method, and a static method."
      ],
      "metadata": {
        "id": "tQ7Tw7HQIQwK"
      }
    },
    {
      "cell_type": "code",
      "source": [
        "class Employee:\n",
        "  num_of_emps = 0\n",
        "  raise_amount = 1.10\n",
        "  \n",
        "  def __init__(self,first,last,pay):\n",
        "    self.first = first\n",
        "    self.last = last \n",
        "    self.pay = pay\n",
        "    self.email = first + '.' + last + '@company.com'\n",
        "    #self.num_of_emps += 1 #.  -> this wont work\n",
        "    Employee.num_of_emps += 1 \n",
        "  def fullname(self):\n",
        "    return 'full name is: ' + self.first + \" \" + self.last\n",
        "  \n",
        "  def apply_raise(self):\n",
        "    self.pay = int(self.pay*self.raise_amount) \n",
        "\n",
        "  @classmethod # <- decorator for classmethod, if we want to change the variable value in a class\n",
        "  def set_raise_amt(cls,amount): # <- does not take self as first argument. Only takes clas(abreviation for class) and parameter to change, amount in this case \n",
        "    cls.raise_amount = amount\n",
        "\n",
        "emp1 = Employee('abc','hef',67)\n",
        "\n",
        "emp2 = Employee('abcd','heff',637)\n",
        "\n",
        "#try with instance or class to raise amount value\n",
        "emp1.set_raise_amt(1.4)\n",
        "print(Employee.raise_amount)\n",
        "emp2.set_raise_amt(1.3)\n",
        "print(Employee.raise_amount)\n",
        "Employee.set_raise_amt(1.25)\n",
        "print(Employee.raise_amount)"
      ],
      "metadata": {
        "id": "dpX9AFI3GQCx",
        "colab": {
          "base_uri": "https://localhost:8080/"
        },
        "outputId": "71be8239-43f7-4529-a5ed-7031e4e00b6f"
      },
      "execution_count": null,
      "outputs": [
        {
          "output_type": "stream",
          "name": "stdout",
          "text": [
            "1.4\n",
            "1.3\n",
            "1.25\n"
          ]
        }
      ]
    },
    {
      "cell_type": "markdown",
      "source": [
        "# Alternative Constructor"
      ],
      "metadata": {
        "id": "jgUPRZWkGX3f"
      }
    },
    {
      "cell_type": "code",
      "source": [
        "class Employee:\n",
        "  num_of_emps = 0\n",
        "  raise_amount = 1.10\n",
        "  \n",
        "  def __init__(self,first,last,pay):\n",
        "    self.first = first\n",
        "    self.last = last \n",
        "    self.pay = pay\n",
        "    self.email = first + '.' + last + '@company.com'\n",
        "    #self.num_of_emps += 1 #.  -> this wont work\n",
        "    Employee.num_of_emps += 1 \n",
        "  def fullname(self):\n",
        "    return 'full name is: ' + self.first + \" \" + self.last\n",
        "  \n",
        "  def apply_raise(self):\n",
        "    self.pay = int(self.pay*self.raise_amount) \n",
        "  @classmethod\n",
        "  def data_from_string(cls,emp_str):\n",
        "    first, last,pay = emp_str.split('-')\n",
        "    return cls( first, last,pay)\n",
        "\n",
        "emp1 = Employee('abc','hef',67)\n",
        "emp2 = Employee('abcd','heff',637)\n",
        "\n",
        "emp_str_1 = 'Bob-cap-78'\n",
        "emp_str_2 = 'Tom-Hardy-738'\n",
        "emp_str_3 = 'cho-te-88'\n",
        "\n",
        "new_emp_from_str1 = Employee.data_from_string(emp_str_1)\n",
        "print(new_emp_from_str1.email)\n"
      ],
      "metadata": {
        "colab": {
          "base_uri": "https://localhost:8080/"
        },
        "id": "bcqsvEVtDtEb",
        "outputId": "f11a4057-4d07-4eef-cb69-18255e81e1ca"
      },
      "execution_count": null,
      "outputs": [
        {
          "output_type": "stream",
          "name": "stdout",
          "text": [
            "Bob.cap@company.com\n"
          ]
        }
      ]
    },
    {
      "cell_type": "markdown",
      "source": [
        "# Static Method"
      ],
      "metadata": {
        "id": "ZkjxKuN5PqLa"
      }
    },
    {
      "cell_type": "code",
      "source": [
        "class Employee:\n",
        "  num_of_emps = 0\n",
        "  raise_amount = 1.10\n",
        "  \n",
        "  def __init__(self,first,last,pay):\n",
        "    self.first = first\n",
        "    self.last = last \n",
        "    self.pay = pay\n",
        "    self.email = first + '.' + last + '@company.com'\n",
        "    #self.num_of_emps += 1 #.  -> this wont work\n",
        "    Employee.num_of_emps += 1 \n",
        "  def fullname(self):\n",
        "    return 'full name is: ' + self.first + \" \" + self.last\n",
        "  \n",
        "  def apply_raise(self):\n",
        "    self.pay = int(self.pay*self.raise_amount) \n",
        "  @staticmethod\n",
        "  def is_workday(day):\n",
        "    if day.weekday() == 5 or day.weekday() ==6:\n",
        "      return False\n",
        "    return True\n",
        "import datetime\n",
        "my_date = datetime.date(2023,1,1) \n",
        "\n",
        "print(Employee.is_workday(my_date))"
      ],
      "metadata": {
        "colab": {
          "base_uri": "https://localhost:8080/"
        },
        "id": "OEyCxZX0HbJ3",
        "outputId": "c18e5e79-25f7-4b27-c581-7aa18fffd350"
      },
      "execution_count": null,
      "outputs": [
        {
          "output_type": "stream",
          "name": "stdout",
          "text": [
            "False\n"
          ]
        }
      ]
    },
    {
      "cell_type": "markdown",
      "source": [
        "# Inheritance\n"
      ],
      "metadata": {
        "id": "3SfT5rzOX_vj"
      }
    },
    {
      "cell_type": "markdown",
      "source": [],
      "metadata": {
        "id": "pZozr0-wX8Lm"
      }
    },
    {
      "cell_type": "code",
      "source": [
        "class Employee:\n",
        "  num_of_emps = 0\n",
        "  raise_amount = 1.10\n",
        "  \n",
        "  def __init__(self,first,last,pay):\n",
        "    self.first = first\n",
        "    self.last = last \n",
        "    self.pay = pay\n",
        "    self.email = first + '.' + last + '@company.com'\n",
        "    #self.num_of_emps += 1 #.  -> this wont work\n",
        "    Employee.num_of_emps += 1 \n",
        "  def fullname(self):\n",
        "    return 'full name is: ' + self.first + \" \" + self.last\n",
        "  \n",
        "  def apply_raise(self):\n",
        "    self.pay = int(self.pay*self.raise_amount) \n",
        "\n",
        "class Developer(Employee): # <-Employee class inherited\n",
        "  pass\n",
        "\n",
        "dev1 = Developer('abc','hef',67) #nothing in the develepor class, still will inherit everything from employee\n",
        "dev2 = Developer('abcd','heff',637)\n",
        "print(dev1.email)"
      ],
      "metadata": {
        "colab": {
          "base_uri": "https://localhost:8080/"
        },
        "id": "X-wZbDnCWKQ1",
        "outputId": "34252192-cb8c-47c6-f96d-0b4926f36d55"
      },
      "execution_count": null,
      "outputs": [
        {
          "output_type": "stream",
          "name": "stdout",
          "text": [
            "abc.hef@company.com\n"
          ]
        }
      ]
    },
    {
      "cell_type": "code",
      "source": [
        "print(help(Developer))"
      ],
      "metadata": {
        "colab": {
          "base_uri": "https://localhost:8080/"
        },
        "id": "4RukunJeYl3z",
        "outputId": "e41e3ba8-9fcc-4889-a7a4-7a9de2cd15f7"
      },
      "execution_count": null,
      "outputs": [
        {
          "output_type": "stream",
          "name": "stdout",
          "text": [
            "Help on class Developer in module __main__:\n",
            "\n",
            "class Developer(Employee)\n",
            " |  Developer(first, last, pay)\n",
            " |  \n",
            " |  Method resolution order:\n",
            " |      Developer\n",
            " |      Employee\n",
            " |      builtins.object\n",
            " |  \n",
            " |  Methods inherited from Employee:\n",
            " |  \n",
            " |  __init__(self, first, last, pay)\n",
            " |      Initialize self.  See help(type(self)) for accurate signature.\n",
            " |  \n",
            " |  apply_raise(self)\n",
            " |  \n",
            " |  fullname(self)\n",
            " |  \n",
            " |  ----------------------------------------------------------------------\n",
            " |  Data descriptors inherited from Employee:\n",
            " |  \n",
            " |  __dict__\n",
            " |      dictionary for instance variables (if defined)\n",
            " |  \n",
            " |  __weakref__\n",
            " |      list of weak references to the object (if defined)\n",
            " |  \n",
            " |  ----------------------------------------------------------------------\n",
            " |  Data and other attributes inherited from Employee:\n",
            " |  \n",
            " |  num_of_emps = 2\n",
            " |  \n",
            " |  raise_amount = 1.1\n",
            "\n",
            "None\n"
          ]
        }
      ]
    },
    {
      "cell_type": "code",
      "source": [
        "class Employee:\n",
        "  num_of_emps = 0\n",
        "  raise_amount = 1.10\n",
        "  \n",
        "  def __init__(self,first,last,pay):\n",
        "    self.first = first\n",
        "    self.last = last \n",
        "    self.pay = pay\n",
        "    self.email = first + '.' + last + '@company.com'\n",
        "    #self.num_of_emps += 1 #.  -> this wont work\n",
        "    Employee.num_of_emps += 1 \n",
        "  def fullname(self):\n",
        "    return 'full name is: ' + self.first + \" \" + self.last\n",
        "  \n",
        "  def apply_raise(self):\n",
        "    self.pay = int(self.pay*self.raise_amount) \n",
        "\n",
        "class Developer(Employee): # <-Employee class inherited\n",
        "  raise_amount = 1.2 #Changing the raise amount in child class / sub classes without change in the main class\n",
        "\n",
        "  def __init__(self,first,last,pay,prog_lang): #add a parameter to dev class but inherit other parameter from main class\n",
        "    super().__init__(first,last,pay) # OR Employee.__init__(self,first,last,pay) is the same thing\n",
        "    self.prog_lang = prog_lang # same as parent\n",
        "\n",
        "\n",
        "dev1 = Developer('abc','hef',67,'Python') \n",
        "dev2 = Developer('abcd','heff',637,'Java')\n",
        "print(dev1.email)\n",
        "print(dev1.prog_lang)\n",
        "\n",
        "\n"
      ],
      "metadata": {
        "colab": {
          "base_uri": "https://localhost:8080/"
        },
        "id": "9yBy7esxZDJi",
        "outputId": "9ab4cda5-6b06-4c8b-d162-5b7667ef8a2c"
      },
      "execution_count": null,
      "outputs": [
        {
          "output_type": "stream",
          "name": "stdout",
          "text": [
            "abc.hef@company.com\n",
            "Python\n"
          ]
        }
      ]
    },
    {
      "cell_type": "code",
      "source": [
        "class Employee:\n",
        "  num_of_emps = 0\n",
        "  raise_amount = 1.10\n",
        "  \n",
        "  def __init__(self,first,last,pay):\n",
        "    self.first = first\n",
        "    self.last = last \n",
        "    self.pay = pay\n",
        "    self.email = first + '.' + last + '@company.com'\n",
        "    #self.num_of_emps += 1 #.  -> this wont work\n",
        "    Employee.num_of_emps += 1 \n",
        "  def fullname(self):\n",
        "    return ': ' + self.first + \" \" + self.last\n",
        "  \n",
        "  def apply_raise(self):\n",
        "    self.pay = int(self.pay*self.raise_amount) \n",
        "\n",
        "class Developer(Employee): # <-Employee class inherited\n",
        "  raise_amount = 1.2 #Changing the raise amount in child class / sub classes without change in the main class\n",
        "\n",
        "  def __init__(self,first,last,pay,prog_lang): #add a parameter to dev class but inherit other parameter from main class\n",
        "    super().__init__(first,last,pay) # OR Employee.__init__(self,first,last,pay) is the same thing\n",
        "    self.prog_lang = prog_lang # same as parent\n",
        "\n",
        "class Manager(Employee):\n",
        "  def __init__(self,first,last,pay,employees = None): \n",
        "    super().__init__(first,last,pay) \n",
        "    if employees is None:\n",
        "      self.employees = []\n",
        "    else:\n",
        "      self.employees = employees\n",
        "\n",
        "  def add_emp(self,emp):\n",
        "      if emp not in self.employees:\n",
        "        self.employees.append(emp)\n",
        "\n",
        "  def remove_emp(self,emp):\n",
        "      if emp in self.employees:\n",
        "        self.employees.remove(emp)\n",
        "\n",
        "  def print_emp(self):\n",
        "    for emp in self.employees:\n",
        "      print('--->',emp.fullname())\n",
        "\n",
        "dev1 = Developer('dev','hef',647,'Python')\n",
        " \n",
        "mgr1 = Manager('mgr','hef',2367,[dev1]) \n",
        "print(mgr1.email)\n",
        "#mgr1.print_emp()\n",
        "dev2 = Developer('dev2','hef2',747,'Java') \n",
        "mgr1.add_emp(dev2)\n",
        "mgr1.print_emp()"
      ],
      "metadata": {
        "colab": {
          "base_uri": "https://localhost:8080/"
        },
        "id": "Hgu4XaVVZuGr",
        "outputId": "e80eeb0b-27c2-4fdc-c743-b9f41877edba"
      },
      "execution_count": null,
      "outputs": [
        {
          "output_type": "stream",
          "name": "stdout",
          "text": [
            "mgr.hef@company.com\n",
            "---> : dev hef\n",
            "---> : dev2 hef2\n"
          ]
        }
      ]
    },
    {
      "cell_type": "markdown",
      "source": [
        "# Isinstance vs issubclass"
      ],
      "metadata": {
        "id": "5fckss82ZE3E"
      }
    },
    {
      "cell_type": "code",
      "source": [
        "print(isinstance(mgr1,Manager)) "
      ],
      "metadata": {
        "colab": {
          "base_uri": "https://localhost:8080/"
        },
        "id": "qY46adWMdsFp",
        "outputId": "88d08f64-6a04-4f47-b66c-78f90bbdb4b7"
      },
      "execution_count": null,
      "outputs": [
        {
          "output_type": "stream",
          "name": "stdout",
          "text": [
            "True\n"
          ]
        }
      ]
    },
    {
      "cell_type": "code",
      "source": [
        "print(issubclass(Manager,Employee)) "
      ],
      "metadata": {
        "colab": {
          "base_uri": "https://localhost:8080/"
        },
        "id": "ZDVcEnw6bK0E",
        "outputId": "374bb7d8-684d-4eaa-b830-95b231a07a9b"
      },
      "execution_count": null,
      "outputs": [
        {
          "output_type": "stream",
          "name": "stdout",
          "text": [
            "True\n"
          ]
        }
      ]
    },
    {
      "cell_type": "code",
      "source": [
        "lst = [1,2,3,4,5]\n",
        "print(lst[::-2][::-1])"
      ],
      "metadata": {
        "id": "-XEWWr25bXWr",
        "colab": {
          "base_uri": "https://localhost:8080/"
        },
        "outputId": "122a1dcf-3655-4cb1-e2d9-5523b07daf2d"
      },
      "execution_count": null,
      "outputs": [
        {
          "output_type": "stream",
          "name": "stdout",
          "text": [
            "[5, 3, 1]\n"
          ]
        }
      ]
    },
    {
      "cell_type": "code",
      "source": [],
      "metadata": {
        "id": "KHCj3pRYmX_6"
      },
      "execution_count": null,
      "outputs": []
    }
  ]
}